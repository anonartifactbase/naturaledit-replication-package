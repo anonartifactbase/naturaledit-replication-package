{
 "cells": [
  {
   "cell_type": "code",
   "execution_count": 1,
   "id": "b0b2fcf0",
   "metadata": {},
   "outputs": [],
   "source": [
    "import pandas as pd\n",
    "\n",
    "df_mapping_r1 = pd.read_csv(\"data/r1_mapping.txt\", sep=\"\\t\", header=None)\n",
    "df_mapping_r2 = pd.read_csv(\"data/r2_mapping.txt\", sep=\"\\t\", header=None)\n",
    "\n",
    "\n",
    "SUMMARY_LABELS = {\n",
    "    \"Summary Accuracy\",\n",
    "    \"Summary Clarity\",\n",
    "    \"Segmentation Granularity\",\n",
    "}\n",
    "\n",
    "DIFF_LABELS = {\n",
    "    \"Diff Faithfulness\",\n",
    "    \"Diff Completeness\",\n",
    "    \"Diff Salience\",\n",
    "}\n",
    "\n",
    "df_summary_diff_r1 = pd.read_csv(\"data/r1_summary_diff.txt\", sep=\"\\t\", header=None)\n",
    "df_summary_diff_r1.columns = [\"Label\"] + [\n",
    "    f\"Score_{i}\" for i in range(1, df_summary_diff_r1.shape[1])\n",
    "]\n",
    "df_summary_r1 = df_summary_diff_r1[\n",
    "    df_summary_diff_r1[\"Label\"].isin(SUMMARY_LABELS)\n",
    "].reset_index(drop=True)\n",
    "df_diff_r1 = df_summary_diff_r1[\n",
    "    df_summary_diff_r1[\"Label\"].isin(DIFF_LABELS)\n",
    "].reset_index(drop=True)\n",
    "\n",
    "df_summary_diff_r2 = pd.read_csv(\"data/r2_summary_diff.txt\", sep=\"\\t\", header=None)\n",
    "df_summary_diff_r2.columns = [\"Label\"] + [\n",
    "    f\"Score_{i}\" for i in range(1, df_summary_diff_r2.shape[1])\n",
    "]\n",
    "df_summary_r2 = df_summary_diff_r2[\n",
    "    df_summary_diff_r2[\"Label\"].isin(SUMMARY_LABELS)\n",
    "].reset_index(drop=True)\n",
    "df_diff_r2 = df_summary_diff_r2[\n",
    "    df_summary_diff_r2[\"Label\"].isin(DIFF_LABELS)\n",
    "].reset_index(drop=True)"
   ]
  },
  {
   "cell_type": "code",
   "execution_count": 2,
   "id": "f3905e53",
   "metadata": {},
   "outputs": [
    {
     "name": "stdout",
     "output_type": "stream",
     "text": [
      "=== Percent Agreement ===\n",
      "Overall Mapping : strict=0.943, relaxed(±1)=0.980\n",
      "Summary Only    : strict=0.704, relaxed(±1)=0.963\n",
      "Diff Only       : strict=0.741, relaxed(±1)=0.991\n"
     ]
    }
   ],
   "source": [
    "import numpy as np\n",
    "\n",
    "# === Overall Mapping ===\n",
    "vec_mapping_r1 = df_mapping_r1.stack().reset_index(drop=True).to_numpy()\n",
    "vec_mapping_r2 = df_mapping_r2.stack().reset_index(drop=True).to_numpy()\n",
    "mapping_strict = np.mean(vec_mapping_r1 == vec_mapping_r2)\n",
    "mapping_relaxed = np.mean(np.abs(vec_mapping_r1 - vec_mapping_r2) <= 1)\n",
    "\n",
    "# === Summary Only ===\n",
    "vec_summary_r1 = df_summary_r1.iloc[:, 1:].to_numpy().flatten()\n",
    "vec_summary_r2 = df_summary_r2.iloc[:, 1:].to_numpy().flatten()\n",
    "summary_strict = np.mean(vec_summary_r1 == vec_summary_r2)\n",
    "summary_relaxed = np.mean(np.abs(vec_summary_r1 - vec_summary_r2) <= 1)\n",
    "\n",
    "# === Diff Only ===\n",
    "vec_diff_r1 = df_diff_r1.iloc[:, 1:].to_numpy().flatten()\n",
    "vec_diff_r2 = df_diff_r2.iloc[:, 1:].to_numpy().flatten()\n",
    "diff_strict = np.mean(vec_diff_r1 == vec_diff_r2)\n",
    "diff_relaxed = np.mean(np.abs(vec_diff_r1 - vec_diff_r2) <= 1)\n",
    "\n",
    "# === Print concise results ===\n",
    "print(\"=== Percent Agreement ===\")\n",
    "print(f\"Overall Mapping : strict={mapping_strict:.3f}, relaxed(±1)={mapping_relaxed:.3f}\")\n",
    "print(f\"Summary Only    : strict={summary_strict:.3f}, relaxed(±1)={summary_relaxed:.3f}\")\n",
    "print(f\"Diff Only       : strict={diff_strict:.3f}, relaxed(±1)={diff_relaxed:.3f}\")"
   ]
  }
 ],
 "metadata": {
  "kernelspec": {
   "display_name": ".venv",
   "language": "python",
   "name": "python3"
  },
  "language_info": {
   "codemirror_mode": {
    "name": "ipython",
    "version": 3
   },
   "file_extension": ".py",
   "mimetype": "text/x-python",
   "name": "python",
   "nbconvert_exporter": "python",
   "pygments_lexer": "ipython3",
   "version": "3.13.5"
  }
 },
 "nbformat": 4,
 "nbformat_minor": 5
}
