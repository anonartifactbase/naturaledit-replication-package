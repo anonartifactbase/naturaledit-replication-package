{
 "cells": [
  {
   "cell_type": "code",
   "execution_count": null,
   "id": "2439f29e",
   "metadata": {},
   "outputs": [],
   "source": [
    "import json\n",
    "from datasets import load_dataset\n",
    "\n",
    "\n",
    "def download():\n",
    "    ds = load_dataset(\"nuprl/CanItEdit\")\n",
    "    print(ds)\n",
    "    ds = ds[\"test\"]\n",
    "    with open(\"data/CanItEdit.jsonl\", \"w\") as f:\n",
    "        for row in ds:\n",
    "            json.dump(row, f)\n",
    "            f.write(\"\\n\")\n",
    "\n",
    "\n",
    "download()"
   ]
  },
  {
   "cell_type": "code",
   "execution_count": 2,
   "id": "bd0bd5f0",
   "metadata": {},
   "outputs": [],
   "source": [
    "# !python infer_naturaledit.py --dataset CanItEdit --model gpt-4.1 --task direct_instruction --type lazy\n",
    "# !python infer_naturaledit.py --dataset CanItEdit --model gpt-4.1 --task summary_mediated --type lazy\n",
    "# !python infer_naturaledit.py --dataset CanItEdit --model gpt-4.1 --task direct_instruction --type descriptive\n",
    "# !python infer_naturaledit.py --dataset CanItEdit --model gpt-4.1 --task summary_mediated --type descriptive\n",
    "# !python infer_naturaledit.py --dataset EditEval --model gpt-4.1 --task direct_instruction\n",
    "# !python infer_naturaledit.py --dataset EditEval --model gpt-4.1 --task summary_mediated"
   ]
  },
  {
   "cell_type": "code",
   "execution_count": 3,
   "id": "e3ae7b4b",
   "metadata": {},
   "outputs": [
    {
     "name": "stdout",
     "output_type": "stream",
     "text": [
      "Running CanItEdit with groundtruth\n"
     ]
    },
    {
     "name": "stderr",
     "output_type": "stream",
     "text": [
      "Evaluating:   0%|          | 0/105 [00:00<?, ?it/s]"
     ]
    },
    {
     "name": "stderr",
     "output_type": "stream",
     "text": [
      "Evaluating: 100%|██████████| 105/105 [00:16<00:00,  6.21it/s]\n"
     ]
    },
    {
     "name": "stdout",
     "output_type": "stream",
     "text": [
      "Summary type: single\n",
      "PASS: 104/105 (99.05%)\n",
      "FAIL: 1/105\n",
      "\n",
      "Results saved to data/CanItEdit.jsonl_results.jsonl\n",
      "Running EditEval with groundtruth\n"
     ]
    },
    {
     "name": "stderr",
     "output_type": "stream",
     "text": [
      "Evaluating: 100%|██████████| 194/194 [00:16<00:00, 11.48it/s]"
     ]
    },
    {
     "name": "stdout",
     "output_type": "stream",
     "text": [
      "Summary type: single\n",
      "PASS: 192/194 (98.97%)\n",
      "FAIL: 2/194\n",
      "\n",
      "Results saved to data/EditEval.jsonl_results.jsonl\n"
     ]
    },
    {
     "name": "stderr",
     "output_type": "stream",
     "text": [
      "\n"
     ]
    }
   ],
   "source": [
    "from evaluate_correctness import main\n",
    "\n",
    "main(\"data/CanItEdit.jsonl\", True)\n",
    "main(\"data/EditEval.jsonl\", True)"
   ]
  },
  {
   "cell_type": "code",
   "execution_count": 4,
   "id": "8b176517",
   "metadata": {},
   "outputs": [
    {
     "name": "stdout",
     "output_type": "stream",
     "text": [
      "Running CanItEdit with gpt-4.1 direct instruction lazy.\n"
     ]
    },
    {
     "name": "stderr",
     "output_type": "stream",
     "text": [
      "Evaluating: 100%|██████████| 105/105 [00:17<00:00,  6.09it/s]"
     ]
    },
    {
     "name": "stdout",
     "output_type": "stream",
     "text": [
      "Summary type: single\n",
      "PASS: 65/105 (61.90%)\n",
      "FAIL: 40/105\n",
      "\n",
      "Results saved to output/CanItEdit_gpt-4.1_direct_instruction_lazy.jsonl_results.jsonl\n",
      "Running CanItEdit with gpt-4.1 summary mediated lazy.\n"
     ]
    },
    {
     "name": "stderr",
     "output_type": "stream",
     "text": [
      "\n",
      "Evaluating: 100%|██████████| 630/630 [01:47<00:00,  5.88it/s]"
     ]
    },
    {
     "name": "stdout",
     "output_type": "stream",
     "text": [
      "Summary type: low_unstructured\n",
      "PASS: 63/105 (60.00%)\n",
      "FAIL: 42/105\n",
      "\n",
      "Summary type: low_structured\n",
      "PASS: 66/105 (62.86%)\n",
      "FAIL: 39/105\n",
      "\n",
      "Summary type: medium_unstructured\n",
      "PASS: 67/105 (63.81%)\n",
      "FAIL: 38/105\n",
      "\n",
      "Summary type: medium_structured\n",
      "PASS: 67/105 (63.81%)\n",
      "FAIL: 38/105\n",
      "\n",
      "Summary type: high_unstructured\n",
      "PASS: 67/105 (63.81%)\n",
      "FAIL: 38/105\n",
      "\n",
      "Summary type: high_structured\n",
      "PASS: 63/105 (60.00%)\n",
      "FAIL: 42/105\n",
      "\n",
      "Results saved to output/CanItEdit_gpt-4.1_summary_mediated_lazy.jsonl_results.jsonl\n"
     ]
    },
    {
     "name": "stderr",
     "output_type": "stream",
     "text": [
      "\n"
     ]
    }
   ],
   "source": [
    "main(\"output/CanItEdit_gpt-4.1_direct_instruction_lazy.jsonl\", True)\n",
    "main(\"output/CanItEdit_gpt-4.1_summary_mediated_lazy.jsonl\", True)"
   ]
  },
  {
   "cell_type": "code",
   "execution_count": 5,
   "id": "0a804b89",
   "metadata": {},
   "outputs": [
    {
     "name": "stdout",
     "output_type": "stream",
     "text": [
      "Running CanItEdit with gpt-4.1 direct instruction descriptive.\n"
     ]
    },
    {
     "name": "stderr",
     "output_type": "stream",
     "text": [
      "Evaluating: 100%|██████████| 105/105 [00:17<00:00,  6.14it/s]"
     ]
    },
    {
     "name": "stdout",
     "output_type": "stream",
     "text": [
      "Summary type: single\n",
      "PASS: 78/105 (74.29%)\n",
      "FAIL: 27/105\n",
      "\n",
      "Results saved to output/CanItEdit_gpt-4.1_direct_instruction_descriptive.jsonl_results.jsonl\n",
      "Running CanItEdit with gpt-4.1 summary mediated descriptive.\n"
     ]
    },
    {
     "name": "stderr",
     "output_type": "stream",
     "text": [
      "\n",
      "Evaluating: 100%|██████████| 630/630 [01:26<00:00,  7.25it/s]"
     ]
    },
    {
     "name": "stdout",
     "output_type": "stream",
     "text": [
      "Summary type: low_unstructured\n",
      "PASS: 73/105 (69.52%)\n",
      "FAIL: 32/105\n",
      "\n",
      "Summary type: low_structured\n",
      "PASS: 73/105 (69.52%)\n",
      "FAIL: 32/105\n",
      "\n",
      "Summary type: medium_unstructured\n",
      "PASS: 71/105 (67.62%)\n",
      "FAIL: 34/105\n",
      "\n",
      "Summary type: medium_structured\n",
      "PASS: 80/105 (76.19%)\n",
      "FAIL: 25/105\n",
      "\n",
      "Summary type: high_unstructured\n",
      "PASS: 74/105 (70.48%)\n",
      "FAIL: 31/105\n",
      "\n",
      "Summary type: high_structured\n",
      "PASS: 69/105 (65.71%)\n",
      "FAIL: 36/105\n",
      "\n",
      "Results saved to output/CanItEdit_gpt-4.1_summary_mediated_descriptive.jsonl_results.jsonl\n"
     ]
    },
    {
     "name": "stderr",
     "output_type": "stream",
     "text": [
      "\n"
     ]
    }
   ],
   "source": [
    "main(\"output/CanItEdit_gpt-4.1_direct_instruction_descriptive.jsonl\", True)\n",
    "main(\"output/CanItEdit_gpt-4.1_summary_mediated_descriptive.jsonl\", True)"
   ]
  },
  {
   "cell_type": "code",
   "execution_count": 6,
   "id": "96aadcae",
   "metadata": {},
   "outputs": [
    {
     "name": "stdout",
     "output_type": "stream",
     "text": [
      "Running EditEval with gpt-4.1 direct instruction.\n"
     ]
    },
    {
     "name": "stderr",
     "output_type": "stream",
     "text": [
      "Evaluating: 100%|██████████| 194/194 [00:11<00:00, 16.89it/s]\n"
     ]
    },
    {
     "name": "stdout",
     "output_type": "stream",
     "text": [
      "Summary type: single\n",
      "PASS: 147/194 (75.77%)\n",
      "FAIL: 47/194\n",
      "\n",
      "Results saved to output/EditEval_gpt-4.1_direct_instruction.jsonl_results.jsonl\n",
      "Running EditEval with gpt-4.1 summary mediated.\n"
     ]
    },
    {
     "name": "stderr",
     "output_type": "stream",
     "text": [
      "Evaluating: 100%|██████████| 1164/1164 [01:21<00:00, 14.34it/s]"
     ]
    },
    {
     "name": "stdout",
     "output_type": "stream",
     "text": [
      "Summary type: low_unstructured\n",
      "PASS: 148/194 (76.29%)\n",
      "FAIL: 46/194\n",
      "\n",
      "Summary type: low_structured\n",
      "PASS: 143/194 (73.71%)\n",
      "FAIL: 51/194\n",
      "\n",
      "Summary type: medium_unstructured\n",
      "PASS: 141/194 (72.68%)\n",
      "FAIL: 53/194\n",
      "\n",
      "Summary type: medium_structured\n",
      "PASS: 146/194 (75.26%)\n",
      "FAIL: 48/194\n",
      "\n",
      "Summary type: high_unstructured\n",
      "PASS: 142/194 (73.20%)\n",
      "FAIL: 52/194\n",
      "\n",
      "Summary type: high_structured\n",
      "PASS: 141/194 (72.68%)\n",
      "FAIL: 53/194\n",
      "\n",
      "Results saved to output/EditEval_gpt-4.1_summary_mediated.jsonl_results.jsonl\n"
     ]
    },
    {
     "name": "stderr",
     "output_type": "stream",
     "text": [
      "\n"
     ]
    }
   ],
   "source": [
    "main(\"output/EditEval_gpt-4.1_direct_instruction.jsonl\", True)\n",
    "main(\"output/EditEval_gpt-4.1_summary_mediated.jsonl\", True)"
   ]
  },
  {
   "cell_type": "code",
   "execution_count": 7,
   "id": "fe0f7cd3",
   "metadata": {},
   "outputs": [
    {
     "name": "stdout",
     "output_type": "stream",
     "text": [
      "Combined data written to output/combined/CanItEdit_gpt-4.1_lazy.jsonl\n",
      "Combined data written to output/combined/CanItEdit_gpt-4.1_descriptive.jsonl\n",
      "Combined data written to output/combined/EditEval_gpt-4.1_instruction.jsonl\n"
     ]
    }
   ],
   "source": [
    "!python combine_data.py --dataset CanItEdit --model gpt-4.1 --type lazy\n",
    "!python combine_data.py --dataset CanItEdit --model gpt-4.1 --type descriptive\n",
    "!python combine_data.py --dataset EditEval --model gpt-4.1 --type instruction"
   ]
  }
 ],
 "metadata": {
  "kernelspec": {
   "display_name": ".venv",
   "language": "python",
   "name": "python3"
  },
  "language_info": {
   "codemirror_mode": {
    "name": "ipython",
    "version": 3
   },
   "file_extension": ".py",
   "mimetype": "text/x-python",
   "name": "python",
   "nbconvert_exporter": "python",
   "pygments_lexer": "ipython3",
   "version": "3.13.5"
  }
 },
 "nbformat": 4,
 "nbformat_minor": 5
}
